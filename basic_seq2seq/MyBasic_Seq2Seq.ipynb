{
 "cells": [
  {
   "cell_type": "markdown",
   "metadata": {},
   "source": [
    "# 查看TensorFlow版本"
   ]
  },
  {
   "cell_type": "code",
   "execution_count": 2,
   "metadata": {},
   "outputs": [
    {
     "name": "stdout",
     "output_type": "stream",
     "text": [
      "TensorFlow Version: 1.14.0\n"
     ]
    }
   ],
   "source": [
    "from distutils.version import LooseVersion\n",
    "import tensorflow as tf\n",
    "from tensorflow.python.layers.core import Dense\n",
    "\n",
    "\n",
    "# Check TensorFlow Version\n",
    "assert LooseVersion(tf.__version__) >= LooseVersion('1.1'), 'Please use TensorFlow version 1.1 or newer'\n",
    "print('TensorFlow Version: {}'.format(tf.__version__))"
   ]
  },
  {
   "cell_type": "markdown",
   "metadata": {},
   "source": [
    "# 数据加载"
   ]
  },
  {
   "cell_type": "code",
   "execution_count": 128,
   "metadata": {},
   "outputs": [],
   "source": [
    "import numpy as np\n",
    "import time \n",
    "import tensorflow as tf\n",
    "\n",
    "with open('data/letters_source.txt','r',encoding='utf-8') as f:\n",
    "    source_data=f.read()\n",
    "with open('data/letters_target.txt','r',encoding='utf-8') as f:\n",
    "    target_data=f.read()"
   ]
  },
  {
   "cell_type": "code",
   "execution_count": 129,
   "metadata": {},
   "outputs": [
    {
     "data": {
      "text/plain": [
       "['bsaqq',\n",
       " 'npy',\n",
       " 'lbwuj',\n",
       " 'bqv',\n",
       " 'kial',\n",
       " 'tddam',\n",
       " 'edxpjpg',\n",
       " 'nspv',\n",
       " 'huloz',\n",
       " 'kmclq']"
      ]
     },
     "execution_count": 129,
     "metadata": {},
     "output_type": "execute_result"
    }
   ],
   "source": [
    "#数据预览\n",
    "source_data.split('\\n')[:10]"
   ]
  },
  {
   "cell_type": "code",
   "execution_count": 130,
   "metadata": {},
   "outputs": [
    {
     "data": {
      "text/plain": [
       "['abqqs',\n",
       " 'npy',\n",
       " 'bjluw',\n",
       " 'bqv',\n",
       " 'aikl',\n",
       " 'addmt',\n",
       " 'degjppx',\n",
       " 'npsv',\n",
       " 'hlouz',\n",
       " 'cklmq']"
      ]
     },
     "execution_count": 130,
     "metadata": {},
     "output_type": "execute_result"
    }
   ],
   "source": [
    "#数据预览\n",
    "target_data.split('\\n')[:10]"
   ]
  },
  {
   "cell_type": "markdown",
   "metadata": {},
   "source": [
    "# 数据预处理"
   ]
  },
  {
   "cell_type": "code",
   "execution_count": 131,
   "metadata": {},
   "outputs": [],
   "source": [
    "def extract_character_vocab(data):\n",
    "    '''构造映射表'''\n",
    "    special_words=['<PAD>','<UNK>','<GO>','<EOS>']\n",
    "    #set()创建无序不重复集合\n",
    "    set_words=list(set([character for line in data.split('\\n') for character in line]))\n",
    "    #这里要把四个特殊字符添加进词典\n",
    "    int_to_vocab={idx:word for idx, word in enumerate(special_words+set_words)}\n",
    "    vocab_to_int={word:idx for idx, word in int_to_vocab.items()}\n",
    "    \n",
    "    return int_to_vocab,vocab_to_int"
   ]
  },
  {
   "cell_type": "code",
   "execution_count": 192,
   "metadata": {},
   "outputs": [],
   "source": [
    "#构造映射表\n",
    "source_int_to_letter,source_letter_to_int=extract_character_vocab(source_data)\n",
    "target_int_to_letter,target_letter_to_int=extract_character_vocab(target_data)\n",
    "\n",
    "\n",
    "#对字母进行转换  ,get()函数返回letter所在下表索引，如果letter不在字典中就返回source_letter_to_int['<UNK>']\n",
    "source_int=[ [source_letter_to_int.get(letter,source_letter_to_int['<UNK>'])\n",
    "            for letter in line] for line in source_data.split('\\n') ]\n",
    "target_int=[[target_letter_to_int.get(letter,target_letter_to_int['<UNK>'])\n",
    "            for letter in line] +[target_letter_to_int['<EOS>']] for line in target_data.split('\\n')]"
   ]
  },
  {
   "cell_type": "code",
   "execution_count": 190,
   "metadata": {},
   "outputs": [
    {
     "data": {
      "text/plain": [
       "[[9, 12, 13, 28, 28],\n",
       " [10, 18, 7],\n",
       " [25, 9, 22, 5, 27],\n",
       " [9, 28, 16],\n",
       " [4, 15, 13, 25],\n",
       " [26, 19, 19, 13, 8],\n",
       " [6, 19, 11, 18, 27, 18, 17],\n",
       " [10, 12, 18, 16],\n",
       " [14, 5, 25, 29, 21],\n",
       " [4, 8, 20, 25, 28]]"
      ]
     },
     "execution_count": 190,
     "metadata": {},
     "output_type": "execute_result"
    }
   ],
   "source": [
    "#查看一下转换结果\n",
    "source_int[:10]"
   ]
  },
  {
   "cell_type": "code",
   "execution_count": 135,
   "metadata": {},
   "outputs": [
    {
     "data": {
      "text/plain": [
       "[[13, 9, 28, 28, 12, 3],\n",
       " [10, 18, 7, 3],\n",
       " [9, 27, 25, 5, 22, 3],\n",
       " [9, 28, 16, 3],\n",
       " [13, 15, 4, 25, 3],\n",
       " [13, 19, 19, 8, 26, 3],\n",
       " [19, 6, 17, 27, 18, 18, 11, 3],\n",
       " [10, 18, 12, 16, 3],\n",
       " [14, 25, 29, 5, 21, 3],\n",
       " [20, 4, 25, 8, 28, 3]]"
      ]
     },
     "execution_count": 135,
     "metadata": {},
     "output_type": "execute_result"
    }
   ],
   "source": [
    "target_int[:10]"
   ]
  },
  {
   "cell_type": "markdown",
   "metadata": {},
   "source": [
    "# 构建模型"
   ]
  },
  {
   "cell_type": "markdown",
   "metadata": {},
   "source": [
    "# 输入层"
   ]
  },
  {
   "cell_type": "code",
   "execution_count": 139,
   "metadata": {},
   "outputs": [],
   "source": [
    "def get_inputs():\n",
    "    '''获得模型输入tensor，6个张量'''\n",
    "    inputs=tf.placeholder(tf.int32,[None,None],name='inputs')     #输入\n",
    "    targets=tf.placeholder(tf.int32,[None,None],name='targets')   #输出\n",
    "    learning_rate=tf.placeholder(tf.float32,name='learning_rate') #学习率\n",
    "    \n",
    "    #定义target序列最大长度（之后target_sequence_length和source_sequence_length会作为feed_dice的参数）\n",
    "    target_sequence_length=tf.placeholder(tf.int32,(None,),name='target_sequence_length')   #目标seq长度\n",
    "    max_target_sequence_length=tf.reduce_max(target_sequence_length,name='max_target_len')  #目标seq最大长度\n",
    "    source_sequence_length=tf.placeholder(tf.int32,(None,),name='source_sequence_length')   #源数据seq长度\n",
    "    \n",
    "    return inputs,targets,learning_rate,target_sequence_length,max_target_sequence_length,source_sequence_length"
   ]
  },
  {
   "cell_type": "markdown",
   "metadata": {},
   "source": [
    "# Encoder"
   ]
  },
  {
   "cell_type": "markdown",
   "metadata": {},
   "source": [
    "在Encoder端，我们需要进行两步，第一步要对我们的输入进行Embedding，再把Embedding以后的向量传给RNN进行处理。"
   ]
  },
  {
   "cell_type": "markdown",
   "metadata": {},
   "source": [
    "我们来看一个栗子，假如我们有一个batch=2，sequence_length=5的样本，features = [[1,2,3,4,5],[6,7,8,9,10]]，使用tf.contrib.layers.embed_sequence(features,vocab_size=n_words, embed_dim=10)\n",
    "那么我们会得到一个2 x 5 x 10的输出，其中features中的每个数字都被embed成了一个10维向量。\n",
    "形如 embed_features=    【不一定对】\n",
    "[\n",
    "    [\n",
    "      [1,0,0,0,0,0,0,0,0,0],\n",
    "      [0,1,0,0,0,0,0,0,0,0],\n",
    "      [0,0,1,0,0,0,0,0,0,0],\n",
    "      [0,0,0,1,0,0,0,0,0,0],\n",
    "      [0,0,0,0,1,0,0,0,0,0]\n",
    "    ],\n",
    "    [\n",
    "      [0,0,0,0,0,1,0,0,0,0],\n",
    "      [0,0,0,0,0,0,1,0,0,0],\n",
    "      [0,0,0,0,0,0,0,1,0,0],\n",
    "      [0,0,0,0,0,0,0,0,1,0],\n",
    "      [0,0,0,0,0,0,0,0,0,1]\n",
    "    ]\n",
    "]"
   ]
  },
  {
   "cell_type": "code",
   "execution_count": 140,
   "metadata": {},
   "outputs": [],
   "source": [
    "def get_encoder_layer(input_data, rnn_size, num_layers,\n",
    "                   source_sequence_length, source_vocab_size, \n",
    "                   encoding_embedding_size):\n",
    "\n",
    "    '''\n",
    "    构造Encoder层\n",
    "    \n",
    "    参数说明：\n",
    "    - input_data: 输入tensor\n",
    "    - rnn_size: rnn隐层结点数量\n",
    "    - num_layers: 堆叠的rnn cell数量\n",
    "    - source_sequence_length: 源数据的序列长度\n",
    "    - source_vocab_size: 源数据的词典大小\n",
    "    - encoding_embedding_size: embedding的大小\n",
    "    '''\n",
    "    # Encoder embedding\n",
    "    encoder_embed_input = tf.contrib.layers.embed_sequence(input_data, source_vocab_size, encoding_embedding_size)\n",
    "\n",
    "    # RNN cell\n",
    "    def get_lstm_cell(rnn_size):\n",
    "        lstm_cell = tf.contrib.rnn.LSTMCell(rnn_size, initializer=tf.random_uniform_initializer(-0.1, 0.1, seed=2))\n",
    "        return lstm_cell\n",
    "\n",
    "    cell = tf.contrib.rnn.MultiRNNCell([get_lstm_cell(rnn_size) for _ in range(num_layers)])\n",
    "    \n",
    "    encoder_output, encoder_state = tf.nn.dynamic_rnn(cell, encoder_embed_input, \n",
    "                                                      sequence_length=source_sequence_length, dtype=tf.float32)\n",
    "    \n",
    "    return encoder_output, encoder_state"
   ]
  },
  {
   "cell_type": "markdown",
   "metadata": {},
   "source": [
    "# Decoder"
   ]
  },
  {
   "cell_type": "markdown",
   "metadata": {},
   "source": [
    "# 对target数据进行预处理"
   ]
  },
  {
   "cell_type": "code",
   "execution_count": 141,
   "metadata": {},
   "outputs": [],
   "source": [
    "def process_decoder_input(data,vocab_to_int,batch_size):\n",
    "    '''补充<GO>,并移除最后一个字符'''\n",
    "    #cut掉最后一个字符\n",
    "    ending=tf.strided_slice(data,[0,0],[batch_size,-1],[1,1])\n",
    "    decoder_input=tf.concat([tf.fill([batch_size,1],vocab_to_int['<GO>']),ending],1) #按第一维进行合并\n",
    "    \n",
    "    return decoder_input"
   ]
  },
  {
   "cell_type": "markdown",
   "metadata": {},
   "source": [
    "# 对数据进行embedding【】"
   ]
  },
  {
   "cell_type": "markdown",
   "metadata": {},
   "source": [
    "同样地，我们还需要对target数据进行embedding，使得它们能够传入Decoder中的RNN"
   ]
  },
  {
   "cell_type": "code",
   "execution_count": 177,
   "metadata": {},
   "outputs": [],
   "source": [
    "def decoding_layer(target_letter_to_int, decoding_embedding_size, num_layers, rnn_size,\n",
    "                   target_sequence_length, max_target_sequence_length, encoder_state, decoder_input):\n",
    "    '''\n",
    "    构造Decoder层\n",
    "    \n",
    "    参数：\n",
    "    - target_letter_to_int: target数据的映射表\n",
    "    - decoding_embedding_size: embed向量大小\n",
    "    - num_layers: 堆叠的RNN单元数量\n",
    "    - rnn_size: RNN单元的隐层结点数量\n",
    "    - target_sequence_length: target数据序列长度\n",
    "    - max_target_sequence_length: target数据序列最大长度\n",
    "    - encoder_state: encoder端编码的状态向量\n",
    "    - decoder_input: decoder端输入\n",
    "    '''\n",
    "    # 1. Embedding\n",
    "    target_vocab_size = len(target_letter_to_int) #目标词向量长度\n",
    "    decoder_embeddings = tf.Variable(tf.random_uniform([target_vocab_size, decoding_embedding_size]))\n",
    "    decoder_embed_input = tf.nn.embedding_lookup(decoder_embeddings, decoder_input) #主要是选取一个张量里面索引对应的元素\n",
    "\n",
    "    # 2. 构造Decoder中的RNN单元\n",
    "    def get_decoder_cell(rnn_size):\n",
    "        decoder_cell = tf.contrib.rnn.LSTMCell(rnn_size,\n",
    "                                           initializer=tf.random_uniform_initializer(-0.1, 0.1, seed=2))\n",
    "        return decoder_cell\n",
    "    cell = tf.contrib.rnn.MultiRNNCell([get_decoder_cell(rnn_size) for _ in range(num_layers)])\n",
    "     \n",
    "    # 3. Output全连接层\n",
    "    output_layer = Dense(target_vocab_size,\n",
    "                         kernel_initializer = tf.truncated_normal_initializer(mean = 0.0, stddev=0.1))\n",
    "\n",
    "\n",
    "    # 4. Training decoder\n",
    "    with tf.variable_scope(\"decode\"):\n",
    "        # 得到help对象\n",
    "        training_helper = tf.contrib.seq2seq.TrainingHelper(inputs=decoder_embed_input,\n",
    "                                                            sequence_length=target_sequence_length,\n",
    "                                                            time_major=False)\n",
    "        # 构造decoder\n",
    "        training_decoder = tf.contrib.seq2seq.BasicDecoder(cell,\n",
    "                                                           training_helper,\n",
    "                                                           encoder_state,\n",
    "                                                           output_layer) \n",
    "        training_decoder_output,_ , _ = tf.contrib.seq2seq.dynamic_decode(training_decoder,\n",
    "                                                                       impute_finished=True,\n",
    "                                                                       maximum_iterations=max_target_sequence_length)\n",
    "    # 5. Predicting decoder\n",
    "    # 与training共享参数\n",
    "    with tf.variable_scope(\"decode\", reuse=True):\n",
    "        # 创建一个常量tensor并复制为batch_size的大小\n",
    "        start_tokens = tf.tile(tf.constant([target_letter_to_int['<GO>']], dtype=tf.int32), [batch_size], \n",
    "                               name='start_tokens')\n",
    "        predicting_helper = tf.contrib.seq2seq.GreedyEmbeddingHelper(decoder_embeddings,\n",
    "                                                                start_tokens,\n",
    "                                                                target_letter_to_int['<EOS>'])\n",
    "        predicting_decoder = tf.contrib.seq2seq.BasicDecoder(cell,\n",
    "                                                        predicting_helper,\n",
    "                                                        encoder_state,\n",
    "                                                        output_layer)\n",
    "        predicting_decoder_output,_, _ = tf.contrib.seq2seq.dynamic_decode(predicting_decoder,\n",
    "                                                            impute_finished=True,\n",
    "                                                            maximum_iterations=max_target_sequence_length)\n",
    "    \n",
    "    return training_decoder_output, predicting_decoder_output"
   ]
  },
  {
   "cell_type": "markdown",
   "metadata": {},
   "source": [
    "# Seq2Seq【】"
   ]
  },
  {
   "cell_type": "markdown",
   "metadata": {},
   "source": [
    "上面已经构建完成Encoder和Decoder，下面将这两部分连接起来，构建seq2seq模型"
   ]
  },
  {
   "cell_type": "code",
   "execution_count": 178,
   "metadata": {},
   "outputs": [],
   "source": [
    "def seq2seq_model(input_data, targets, lr, target_sequence_length, \n",
    "                  max_target_sequence_length, source_sequence_length,\n",
    "                  source_vocab_size, target_vocab_size,\n",
    "                  encoder_embedding_size, decoder_embedding_size, \n",
    "                  rnn_size, num_layers):\n",
    "    \n",
    "    # 获取encoder的状态输出\n",
    "    _, encoder_state = get_encoder_layer(input_data, \n",
    "                                  rnn_size, \n",
    "                                  num_layers, \n",
    "                                  source_sequence_length,\n",
    "                                  source_vocab_size, \n",
    "                                  encoding_embedding_size)\n",
    "    \n",
    "    \n",
    "    # 预处理后的decoder输入\n",
    "    decoder_input = process_decoder_input(targets, target_letter_to_int, batch_size)\n",
    "    \n",
    "    # 将状态向量与输入传递给decoder\n",
    "    training_decoder_output, predicting_decoder_output = decoding_layer(target_letter_to_int, \n",
    "                                                                       decoding_embedding_size, \n",
    "                                                                       num_layers, \n",
    "                                                                       rnn_size,\n",
    "                                                                       target_sequence_length,\n",
    "                                                                       max_target_sequence_length,\n",
    "                                                                       encoder_state, \n",
    "                                                                       decoder_input) \n",
    "    \n",
    "    return training_decoder_output, predicting_decoder_output\n",
    "    "
   ]
  },
  {
   "cell_type": "code",
   "execution_count": 179,
   "metadata": {},
   "outputs": [],
   "source": [
    "# 超参数\n",
    "# Number of Epochs\n",
    "epochs = 60\n",
    "# Batch Size\n",
    "batch_size = 128\n",
    "# RNN Size\n",
    "rnn_size = 50\n",
    "# Number of Layers\n",
    "num_layers = 2\n",
    "# Embedding Size\n",
    "encoding_embedding_size = 15\n",
    "decoding_embedding_size = 15\n",
    "# Learning Rate\n",
    "learning_rate = 0.001"
   ]
  },
  {
   "cell_type": "code",
   "execution_count": 180,
   "metadata": {},
   "outputs": [],
   "source": [
    "# 构造graph\n",
    "train_graph = tf.Graph()\n",
    "\n",
    "with train_graph.as_default():\n",
    "    \n",
    "    # 获得模型输入    \n",
    "    input_data, targets, lr, target_sequence_length, max_target_sequence_length, source_sequence_length = get_inputs()\n",
    "    \n",
    "    training_decoder_output, predicting_decoder_output = seq2seq_model(input_data,targets,lr,target_sequence_length,\n",
    "                                                                       max_target_sequence_length,source_sequence_length,\n",
    "                                                                       len(source_letter_to_int),len(target_letter_to_int),\n",
    "                                                                       encoding_embedding_size,decoding_embedding_size,\n",
    "                                                                       rnn_size,num_layers)  \n",
    "\n",
    "     #tf.identity它返回一个和输入的 tensor 大小和数值都一样的 tensor ,类似于 y=x 操作\n",
    "    training_logits = tf.identity(training_decoder_output.rnn_output, 'logits')\n",
    "    predicting_logits = tf.identity(predicting_decoder_output.sample_id, name='predictions')\n",
    "    \n",
    "    masks = tf.sequence_mask(target_sequence_length, max_target_sequence_length, dtype=tf.float32, name='masks')\n",
    "\n",
    "    with tf.name_scope(\"optimization\"):\n",
    "        \n",
    "        # Loss function\n",
    "        cost = tf.contrib.seq2seq.sequence_loss(\n",
    "            training_logits,\n",
    "            targets,\n",
    "            masks)\n",
    "\n",
    "        # Optimizer\n",
    "        optimizer = tf.train.AdamOptimizer(lr)\n",
    "\n",
    "        # Gradient Clipping\n",
    "        gradients = optimizer.compute_gradients(cost)\n",
    "        capped_gradients = [(tf.clip_by_value(grad, -5., 5.), var) for grad, var in gradients if grad is not None]\n",
    "        train_op = optimizer.apply_gradients(capped_gradients)\n",
    "\n"
   ]
  },
  {
   "cell_type": "markdown",
   "metadata": {},
   "source": [
    "# Batches"
   ]
  },
  {
   "cell_type": "code",
   "execution_count": 181,
   "metadata": {},
   "outputs": [],
   "source": [
    "def pad_sentence_batch(sentence_batch, pad_int):\n",
    "    '''\n",
    "    对batch中的序列进行补全，保证batch中的每行都有相同的sequence_length\n",
    "    \n",
    "    参数：\n",
    "    - sentence batch\n",
    "    - pad_int: <PAD>对应索引号\n",
    "    '''\n",
    "    max_sentence = max([len(sentence) for sentence in sentence_batch])\n",
    "    return [sentence + [pad_int] * (max_sentence - len(sentence)) for sentence in sentence_batch]"
   ]
  },
  {
   "cell_type": "code",
   "execution_count": 182,
   "metadata": {},
   "outputs": [],
   "source": [
    "def get_batches(targets, sources, batch_size, source_pad_int, target_pad_int):\n",
    "    '''\n",
    "    定义生成器，用来获取batch\n",
    "    '''\n",
    "    for batch_i in range(0, len(sources)//batch_size):  #//取整数\n",
    "        start_i = batch_i * batch_size\n",
    "        sources_batch = sources[start_i:start_i + batch_size]\n",
    "        targets_batch = targets[start_i:start_i + batch_size]\n",
    "        # 补全序列\n",
    "        pad_sources_batch = np.array(pad_sentence_batch(sources_batch, source_pad_int))\n",
    "        pad_targets_batch = np.array(pad_sentence_batch(targets_batch, target_pad_int))\n",
    "        \n",
    "        # 记录每条记录的长度\n",
    "        targets_lengths = []\n",
    "        for target in targets_batch:\n",
    "            targets_lengths.append(len(target)) #每个batch中每条序列的长度\n",
    "        \n",
    "        source_lengths = []\n",
    "        for source in sources_batch:\n",
    "            source_lengths.append(len(source)) #每个batch中每条序列的长度\n",
    "        \n",
    "        #yield 是一个类似 return 的关键字，迭代一次遇到yield时就返回yield后面(右边)的值\n",
    "        yield pad_targets_batch, pad_sources_batch, targets_lengths, source_lengths"
   ]
  },
  {
   "cell_type": "markdown",
   "metadata": {},
   "source": [
    "# Train"
   ]
  },
  {
   "cell_type": "code",
   "execution_count": 183,
   "metadata": {
    "scrolled": true
   },
   "outputs": [
    {
     "name": "stdout",
     "output_type": "stream",
     "text": [
      "Epoch   1/60 Batch    0/77 - Training Loss:  3.401  - Validation loss:  3.398\n",
      "Epoch   1/60 Batch   50/77 - Training Loss:  2.781  - Validation loss:  2.785\n",
      "Epoch   2/60 Batch    0/77 - Training Loss:  2.449  - Validation loss:  2.467\n",
      "Epoch   2/60 Batch   50/77 - Training Loss:  2.122  - Validation loss:  2.125\n",
      "Epoch   3/60 Batch    0/77 - Training Loss:  1.982  - Validation loss:  1.989\n",
      "Epoch   3/60 Batch   50/77 - Training Loss:  1.801  - Validation loss:  1.781\n",
      "Epoch   4/60 Batch    0/77 - Training Loss:  1.680  - Validation loss:  1.669\n",
      "Epoch   4/60 Batch   50/77 - Training Loss:  1.527  - Validation loss:  1.521\n",
      "Epoch   5/60 Batch    0/77 - Training Loss:  1.453  - Validation loss:  1.446\n",
      "Epoch   5/60 Batch   50/77 - Training Loss:  1.350  - Validation loss:  1.334\n",
      "Epoch   6/60 Batch    0/77 - Training Loss:  1.286  - Validation loss:  1.277\n",
      "Epoch   6/60 Batch   50/77 - Training Loss:  1.184  - Validation loss:  1.156\n",
      "Epoch   7/60 Batch    0/77 - Training Loss:  1.136  - Validation loss:  1.089\n",
      "Epoch   7/60 Batch   50/77 - Training Loss:  1.018  - Validation loss:  0.982\n",
      "Epoch   8/60 Batch    0/77 - Training Loss:  0.987  - Validation loss:  0.926\n",
      "Epoch   8/60 Batch   50/77 - Training Loss:  0.889  - Validation loss:  0.841\n",
      "Epoch   9/60 Batch    0/77 - Training Loss:  0.864  - Validation loss:  0.799\n",
      "Epoch   9/60 Batch   50/77 - Training Loss:  0.782  - Validation loss:  0.732\n",
      "Epoch  10/60 Batch    0/77 - Training Loss:  0.765  - Validation loss:  0.698\n",
      "Epoch  10/60 Batch   50/77 - Training Loss:  0.697  - Validation loss:  0.646\n",
      "Epoch  11/60 Batch    0/77 - Training Loss:  0.679  - Validation loss:  0.619\n",
      "Epoch  11/60 Batch   50/77 - Training Loss:  0.618  - Validation loss:  0.573\n",
      "Epoch  12/60 Batch    0/77 - Training Loss:  0.595  - Validation loss:  0.543\n",
      "Epoch  12/60 Batch   50/77 - Training Loss:  0.548  - Validation loss:  0.504\n",
      "Epoch  13/60 Batch    0/77 - Training Loss:  0.513  - Validation loss:  0.477\n",
      "Epoch  13/60 Batch   50/77 - Training Loss:  0.478  - Validation loss:  0.441\n",
      "Epoch  14/60 Batch    0/77 - Training Loss:  0.432  - Validation loss:  0.416\n",
      "Epoch  14/60 Batch   50/77 - Training Loss:  0.408  - Validation loss:  0.378\n",
      "Epoch  15/60 Batch    0/77 - Training Loss:  0.359  - Validation loss:  0.360\n",
      "Epoch  15/60 Batch   50/77 - Training Loss:  0.343  - Validation loss:  0.324\n",
      "Epoch  16/60 Batch    0/77 - Training Loss:  0.298  - Validation loss:  0.314\n",
      "Epoch  16/60 Batch   50/77 - Training Loss:  0.291  - Validation loss:  0.277\n",
      "Epoch  17/60 Batch    0/77 - Training Loss:  0.247  - Validation loss:  0.268\n",
      "Epoch  17/60 Batch   50/77 - Training Loss:  0.249  - Validation loss:  0.238\n",
      "Epoch  18/60 Batch    0/77 - Training Loss:  0.208  - Validation loss:  0.227\n",
      "Epoch  18/60 Batch   50/77 - Training Loss:  0.215  - Validation loss:  0.205\n",
      "Epoch  19/60 Batch    0/77 - Training Loss:  0.180  - Validation loss:  0.193\n",
      "Epoch  19/60 Batch   50/77 - Training Loss:  0.184  - Validation loss:  0.177\n",
      "Epoch  20/60 Batch    0/77 - Training Loss:  0.153  - Validation loss:  0.166\n",
      "Epoch  20/60 Batch   50/77 - Training Loss:  0.158  - Validation loss:  0.155\n",
      "Epoch  21/60 Batch    0/77 - Training Loss:  0.131  - Validation loss:  0.146\n",
      "Epoch  21/60 Batch   50/77 - Training Loss:  0.137  - Validation loss:  0.137\n",
      "Epoch  22/60 Batch    0/77 - Training Loss:  0.113  - Validation loss:  0.130\n",
      "Epoch  22/60 Batch   50/77 - Training Loss:  0.119  - Validation loss:  0.122\n",
      "Epoch  23/60 Batch    0/77 - Training Loss:  0.100  - Validation loss:  0.117\n",
      "Epoch  23/60 Batch   50/77 - Training Loss:  0.104  - Validation loss:  0.110\n",
      "Epoch  24/60 Batch    0/77 - Training Loss:  0.089  - Validation loss:  0.106\n",
      "Epoch  24/60 Batch   50/77 - Training Loss:  0.093  - Validation loss:  0.103\n",
      "Epoch  25/60 Batch    0/77 - Training Loss:  0.079  - Validation loss:  0.095\n",
      "Epoch  25/60 Batch   50/77 - Training Loss:  0.084  - Validation loss:  0.098\n",
      "Epoch  26/60 Batch    0/77 - Training Loss:  0.070  - Validation loss:  0.084\n",
      "Epoch  26/60 Batch   50/77 - Training Loss:  0.081  - Validation loss:  0.086\n",
      "Epoch  27/60 Batch    0/77 - Training Loss:  0.064  - Validation loss:  0.078\n",
      "Epoch  27/60 Batch   50/77 - Training Loss:  0.071  - Validation loss:  0.078\n",
      "Epoch  28/60 Batch    0/77 - Training Loss:  0.062  - Validation loss:  0.071\n",
      "Epoch  28/60 Batch   50/77 - Training Loss:  0.061  - Validation loss:  0.071\n",
      "Epoch  29/60 Batch    0/77 - Training Loss:  0.059  - Validation loss:  0.064\n",
      "Epoch  29/60 Batch   50/77 - Training Loss:  0.054  - Validation loss:  0.064\n",
      "Epoch  30/60 Batch    0/77 - Training Loss:  0.053  - Validation loss:  0.061\n",
      "Epoch  30/60 Batch   50/77 - Training Loss:  0.049  - Validation loss:  0.059\n",
      "Epoch  31/60 Batch    0/77 - Training Loss:  0.045  - Validation loss:  0.058\n",
      "Epoch  31/60 Batch   50/77 - Training Loss:  0.047  - Validation loss:  0.054\n",
      "Epoch  32/60 Batch    0/77 - Training Loss:  0.040  - Validation loss:  0.055\n",
      "Epoch  32/60 Batch   50/77 - Training Loss:  0.043  - Validation loss:  0.050\n",
      "Epoch  33/60 Batch    0/77 - Training Loss:  0.034  - Validation loss:  0.046\n",
      "Epoch  33/60 Batch   50/77 - Training Loss:  0.036  - Validation loss:  0.047\n",
      "Epoch  34/60 Batch    0/77 - Training Loss:  0.032  - Validation loss:  0.042\n",
      "Epoch  34/60 Batch   50/77 - Training Loss:  0.032  - Validation loss:  0.045\n",
      "Epoch  35/60 Batch    0/77 - Training Loss:  0.031  - Validation loss:  0.041\n",
      "Epoch  35/60 Batch   50/77 - Training Loss:  0.029  - Validation loss:  0.043\n",
      "Epoch  36/60 Batch    0/77 - Training Loss:  0.027  - Validation loss:  0.039\n",
      "Epoch  36/60 Batch   50/77 - Training Loss:  0.027  - Validation loss:  0.040\n",
      "Epoch  37/60 Batch    0/77 - Training Loss:  0.024  - Validation loss:  0.037\n",
      "Epoch  37/60 Batch   50/77 - Training Loss:  0.025  - Validation loss:  0.037\n",
      "Epoch  38/60 Batch    0/77 - Training Loss:  0.022  - Validation loss:  0.033\n",
      "Epoch  38/60 Batch   50/77 - Training Loss:  0.024  - Validation loss:  0.035\n",
      "Epoch  39/60 Batch    0/77 - Training Loss:  0.020  - Validation loss:  0.029\n",
      "Epoch  39/60 Batch   50/77 - Training Loss:  0.022  - Validation loss:  0.033\n",
      "Epoch  40/60 Batch    0/77 - Training Loss:  0.018  - Validation loss:  0.027\n",
      "Epoch  40/60 Batch   50/77 - Training Loss:  0.020  - Validation loss:  0.031\n",
      "Epoch  41/60 Batch    0/77 - Training Loss:  0.017  - Validation loss:  0.026\n",
      "Epoch  41/60 Batch   50/77 - Training Loss:  0.018  - Validation loss:  0.029\n",
      "Epoch  42/60 Batch    0/77 - Training Loss:  0.016  - Validation loss:  0.025\n",
      "Epoch  42/60 Batch   50/77 - Training Loss:  0.017  - Validation loss:  0.028\n",
      "Epoch  43/60 Batch    0/77 - Training Loss:  0.015  - Validation loss:  0.024\n",
      "Epoch  43/60 Batch   50/77 - Training Loss:  0.016  - Validation loss:  0.027\n",
      "Epoch  44/60 Batch    0/77 - Training Loss:  0.014  - Validation loss:  0.023\n",
      "Epoch  44/60 Batch   50/77 - Training Loss:  0.015  - Validation loss:  0.027\n",
      "Epoch  45/60 Batch    0/77 - Training Loss:  0.013  - Validation loss:  0.022\n",
      "Epoch  45/60 Batch   50/77 - Training Loss:  0.014  - Validation loss:  0.026\n",
      "Epoch  46/60 Batch    0/77 - Training Loss:  0.012  - Validation loss:  0.021\n",
      "Epoch  46/60 Batch   50/77 - Training Loss:  0.013  - Validation loss:  0.025\n",
      "Epoch  47/60 Batch    0/77 - Training Loss:  0.011  - Validation loss:  0.020\n",
      "Epoch  47/60 Batch   50/77 - Training Loss:  0.012  - Validation loss:  0.024\n",
      "Epoch  48/60 Batch    0/77 - Training Loss:  0.011  - Validation loss:  0.019\n",
      "Epoch  48/60 Batch   50/77 - Training Loss:  0.012  - Validation loss:  0.023\n",
      "Epoch  49/60 Batch    0/77 - Training Loss:  0.010  - Validation loss:  0.019\n",
      "Epoch  49/60 Batch   50/77 - Training Loss:  0.011  - Validation loss:  0.022\n",
      "Epoch  50/60 Batch    0/77 - Training Loss:  0.010  - Validation loss:  0.018\n",
      "Epoch  50/60 Batch   50/77 - Training Loss:  0.011  - Validation loss:  0.021\n",
      "Epoch  51/60 Batch    0/77 - Training Loss:  0.010  - Validation loss:  0.018\n",
      "Epoch  51/60 Batch   50/77 - Training Loss:  0.011  - Validation loss:  0.020\n",
      "Epoch  52/60 Batch    0/77 - Training Loss:  0.010  - Validation loss:  0.018\n",
      "Epoch  52/60 Batch   50/77 - Training Loss:  0.010  - Validation loss:  0.020\n",
      "Epoch  53/60 Batch    0/77 - Training Loss:  0.010  - Validation loss:  0.018\n",
      "Epoch  53/60 Batch   50/77 - Training Loss:  0.010  - Validation loss:  0.020\n"
     ]
    },
    {
     "name": "stdout",
     "output_type": "stream",
     "text": [
      "Epoch  54/60 Batch    0/77 - Training Loss:  0.009  - Validation loss:  0.019\n",
      "Epoch  54/60 Batch   50/77 - Training Loss:  0.010  - Validation loss:  0.020\n",
      "Epoch  55/60 Batch    0/77 - Training Loss:  0.008  - Validation loss:  0.020\n",
      "Epoch  55/60 Batch   50/77 - Training Loss:  0.009  - Validation loss:  0.021\n",
      "Epoch  56/60 Batch    0/77 - Training Loss:  0.007  - Validation loss:  0.019\n",
      "Epoch  56/60 Batch   50/77 - Training Loss:  0.007  - Validation loss:  0.017\n",
      "Epoch  57/60 Batch    0/77 - Training Loss:  0.006  - Validation loss:  0.016\n",
      "Epoch  57/60 Batch   50/77 - Training Loss:  0.006  - Validation loss:  0.016\n",
      "Epoch  58/60 Batch    0/77 - Training Loss:  0.006  - Validation loss:  0.016\n",
      "Epoch  58/60 Batch   50/77 - Training Loss:  0.006  - Validation loss:  0.015\n",
      "Epoch  59/60 Batch    0/77 - Training Loss:  0.006  - Validation loss:  0.016\n",
      "Epoch  59/60 Batch   50/77 - Training Loss:  0.006  - Validation loss:  0.015\n",
      "Epoch  60/60 Batch    0/77 - Training Loss:  0.005  - Validation loss:  0.015\n",
      "Epoch  60/60 Batch   50/77 - Training Loss:  0.005  - Validation loss:  0.014\n",
      "Model Trained and Saved\n"
     ]
    }
   ],
   "source": [
    "\n",
    "# 将数据集分割为train和validation\n",
    "train_source = source_int[batch_size:]\n",
    "train_target = target_int[batch_size:]\n",
    "# 留出一个batch进行验证\n",
    "valid_source = source_int[:batch_size]\n",
    "valid_target = target_int[:batch_size]\n",
    "(valid_targets_batch, valid_sources_batch, valid_targets_lengths, valid_sources_lengths) = next(get_batches(valid_target, valid_source, batch_size,\n",
    "                           source_letter_to_int['<PAD>'],\n",
    "                           target_letter_to_int['<PAD>']))\n",
    "\n",
    "display_step = 50 # 每隔50轮输出loss\n",
    "\n",
    "checkpoint = \"trained_model.ckpt\" \n",
    "with tf.Session(graph=train_graph) as sess:\n",
    "    sess.run(tf.global_variables_initializer())\n",
    "        \n",
    "    for epoch_i in range(1, epochs+1):\n",
    "        for batch_i, (targets_batch, sources_batch, targets_lengths, sources_lengths) in enumerate(\n",
    "                get_batches(train_target, train_source, batch_size,\n",
    "                           source_letter_to_int['<PAD>'],\n",
    "                           target_letter_to_int['<PAD>'])):\n",
    "            \n",
    "            _, loss = sess.run(\n",
    "                [train_op, cost],\n",
    "                {input_data: sources_batch,\n",
    "                 targets: targets_batch,\n",
    "                 lr: learning_rate,\n",
    "                 target_sequence_length: targets_lengths,\n",
    "                 source_sequence_length: sources_lengths})\n",
    "\n",
    "            if batch_i % display_step == 0:\n",
    "                \n",
    "                # 计算validation loss\n",
    "                validation_loss = sess.run(\n",
    "                [cost],\n",
    "                {input_data: valid_sources_batch,\n",
    "                 targets: valid_targets_batch,\n",
    "                 lr: learning_rate,\n",
    "                 target_sequence_length: valid_targets_lengths,\n",
    "                 source_sequence_length: valid_sources_lengths})\n",
    "                \n",
    "                print('Epoch {:>3}/{} Batch {:>4}/{} - Training Loss: {:>6.3f}  - Validation loss: {:>6.3f}'\n",
    "                      .format(epoch_i,\n",
    "                              epochs, \n",
    "                              batch_i, \n",
    "                              len(train_source) // batch_size, \n",
    "                              loss, \n",
    "                              validation_loss[0]))\n",
    "\n",
    "    \n",
    "    \n",
    "    # 保存模型\n",
    "    saver = tf.train.Saver()\n",
    "    saver.save(sess, checkpoint)\n",
    "    print('Model Trained and Saved')"
   ]
  },
  {
   "cell_type": "markdown",
   "metadata": {},
   "source": [
    "# 预测"
   ]
  },
  {
   "cell_type": "code",
   "execution_count": 184,
   "metadata": {},
   "outputs": [],
   "source": [
    "def source_to_seq(text):\n",
    "    '''\n",
    "    对源数据进行转换\n",
    "    '''\n",
    "    sequence_length = 7\n",
    "    return [source_letter_to_int.get(word, source_letter_to_int['<UNK>']) for word in text] + [source_letter_to_int['<PAD>']]*(sequence_length-len(text))"
   ]
  },
  {
   "cell_type": "code",
   "execution_count": 187,
   "metadata": {},
   "outputs": [
    {
     "name": "stdout",
     "output_type": "stream",
     "text": [
      "原始输入: comoacxz\n",
      "\n",
      "Source\n",
      "  Word 编号:    [20, 29, 8, 29, 13, 20, 11, 21]\n",
      "  Input Words: c o m o a c x z\n",
      "\n",
      "Target\n",
      "  Word 编号:       [13, 20, 20, 8, 29, 29, 11, 21]\n",
      "  Response Words: a c c m o o x z\n"
     ]
    }
   ],
   "source": [
    "# 输入一个单词\n",
    "input_word = 'comoacxz'\n",
    "text = source_to_seq(input_word)\n",
    "\n",
    "checkpoint = \"./trained_model.ckpt\"\n",
    "\n",
    "loaded_graph = tf.Graph()\n",
    "with tf.Session(graph=loaded_graph) as sess:\n",
    "    # 加载模型\n",
    "    loader = tf.train.import_meta_graph(checkpoint + '.meta')\n",
    "    loader.restore(sess, checkpoint)\n",
    "\n",
    "    input_data = loaded_graph.get_tensor_by_name('inputs:0')\n",
    "    logits = loaded_graph.get_tensor_by_name('predictions:0')\n",
    "    source_sequence_length = loaded_graph.get_tensor_by_name('source_sequence_length:0')\n",
    "    target_sequence_length = loaded_graph.get_tensor_by_name('target_sequence_length:0')\n",
    "    \n",
    "    answer_logits = sess.run(logits, {input_data: [text]*batch_size, \n",
    "                                      target_sequence_length: [len(input_word)]*batch_size, \n",
    "                                      source_sequence_length: [len(input_word)]*batch_size})[0] \n",
    "\n",
    "\n",
    "pad = source_letter_to_int[\"<PAD>\"] \n",
    "\n",
    "print('原始输入:', input_word)\n",
    "\n",
    "print('\\nSource')\n",
    "print('  Word 编号:    {}'.format([i for i in text]))\n",
    "print('  Input Words: {}'.format(\" \".join([source_int_to_letter[i] for i in text])))\n",
    "\n",
    "print('\\nTarget')\n",
    "print('  Word 编号:       {}'.format([i for i in answer_logits if i != pad]))\n",
    "print('  Response Words: {}'.format(\" \".join([target_int_to_letter[i] for i in answer_logits if i != pad])))"
   ]
  },
  {
   "cell_type": "code",
   "execution_count": null,
   "metadata": {},
   "outputs": [],
   "source": []
  }
 ],
 "metadata": {
  "kernelspec": {
   "display_name": "Python 3",
   "language": "python",
   "name": "python3"
  },
  "language_info": {
   "codemirror_mode": {
    "name": "ipython",
    "version": 3
   },
   "file_extension": ".py",
   "mimetype": "text/x-python",
   "name": "python",
   "nbconvert_exporter": "python",
   "pygments_lexer": "ipython3",
   "version": "3.7.3"
  }
 },
 "nbformat": 4,
 "nbformat_minor": 2
}
